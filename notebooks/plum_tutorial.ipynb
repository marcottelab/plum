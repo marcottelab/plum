{
 "cells": [
  {
   "cell_type": "markdown",
   "metadata": {},
   "source": [
    "# Using plum\n",
    "\n",
    "This notebook will help you use the classes in ``plum``. See the README"
   ]
  },
  {
   "cell_type": "code",
   "execution_count": 1,
   "metadata": {
    "collapsed": false
   },
   "outputs": [],
   "source": [
    "import dendropy\n",
    "import numpy as np\n",
    "import pandas as pd\n",
    "import matplotlib.pyplot as plt\n",
    "\n",
    "import plum.sim\n",
    "import plum.util.data\n",
    "import plum.models.ErrorModels\n",
    "import plum.models.MarkovModels\n",
    "import plum.training.likelihood\n",
    "import plum.training.recall_precision\n",
    "\n",
    "%matplotlib inline"
   ]
  },
  {
   "cell_type": "markdown",
   "metadata": {},
   "source": [
    "## Specifying a model\n",
    "\n",
    "PLVM models have two components, an error model and a continuous time Markov model (CTMC). You can specify the parameters of each of these by accessing the classes contained in ``plum.models.ErrorModels`` and ``plum.models.MarkovModels``, respectively"
   ]
  },
  {
   "cell_type": "markdown",
   "metadata": {},
   "source": [
    "#### Specify the CTMC\n",
    "So far, the class TwoState is the only available CTMC model, and describes a rate matrix\n",
    "\n",
    "$$\n",
    "\\textbf{Q} =\n",
    "\\begin{pmatrix}\n",
    "-\\alpha&\\alpha \\\\\n",
    "\\beta&-\\beta\n",
    "\\end{pmatrix}\n",
    "$$\n",
    "\n",
    "where $\\alpha$ and $\\beta$ are the instantaneous rate parameters describing gains and losses of network edges, respectively. "
   ]
  },
  {
   "cell_type": "code",
   "execution_count": 2,
   "metadata": {
    "collapsed": true
   },
   "outputs": [],
   "source": [
    "ctmc = plum.models.MarkovModels.TwoState(alpha=.01,beta=.1)"
   ]
  },
  {
   "cell_type": "markdown",
   "metadata": {},
   "source": [
    "#### Setting free parameterse\n",
    "\n",
    "The ``params`` attribute shows the relevant parameters of the model"
   ]
  },
  {
   "cell_type": "code",
   "execution_count": 3,
   "metadata": {
    "collapsed": false
   },
   "outputs": [
    {
     "data": {
      "text/plain": [
       "{'alpha': 0.01,\n",
       " 'beta': 0.1,\n",
       " 'mu': 0.11,\n",
       " 'pi0': 0.9090909090909092,\n",
       " 'pi1': 0.09090909090909083}"
      ]
     },
     "execution_count": 3,
     "metadata": {},
     "output_type": "execute_result"
    }
   ],
   "source": [
    "ctmc.params"
   ]
  },
  {
   "cell_type": "markdown",
   "metadata": {},
   "source": [
    "However, the only *free* parameters of this model are ``alpha`` and ``beta``, and hence they are the only ones we need to/can set when we specify the model. (To see how $\\mu$, $\\pi_0$, and $\\pi_1$ are related to $\\alpha$ and $\\beta$, see the extended methods of the paper.)\n",
    "\n",
    "The free parameters are held in the ``freeParams`` attribute."
   ]
  },
  {
   "cell_type": "code",
   "execution_count": 4,
   "metadata": {
    "collapsed": false
   },
   "outputs": [
    {
     "data": {
      "text/plain": [
       "['alpha', 'beta']"
      ]
     },
     "execution_count": 4,
     "metadata": {},
     "output_type": "execute_result"
    }
   ],
   "source": [
    "ctmc.freeParams"
   ]
  },
  {
   "cell_type": "markdown",
   "metadata": {},
   "source": [
    "If you want to clamp one of the parameters during model fitting, you can do that by removing free parameters. Here's an example in text, but for now we'll keep all the parameters free\n",
    "\n",
    "``ctmc.freeParams = [\"alpha\"]``"
   ]
  },
  {
   "cell_type": "markdown",
   "metadata": {},
   "source": [
    "#### Specify the error model\n",
    "\n",
    "We'll start with a simple Gaussian model of a 1-dimensional feature. Here, ``mean0`` corresponds to the expected mean of the data for negative interactions, i.e. where no edge is expected. ``sd0`` corresponds to the expected standard deviation of negative interactions, and ``mean1`` and ``sd1`` are the parameters for true interactions."
   ]
  },
  {
   "cell_type": "code",
   "execution_count": 5,
   "metadata": {
    "collapsed": true
   },
   "outputs": [],
   "source": [
    "gauss = plum.models.ErrorModels.Gaussian(mean0=-.5, sd0=.5, mean1=.5, sd1=.5)"
   ]
  },
  {
   "cell_type": "code",
   "execution_count": 6,
   "metadata": {
    "collapsed": false
   },
   "outputs": [
    {
     "data": {
      "text/plain": [
       "{'mean0': -0.5, 'mean1': 0.5, 'sd0': 0.5, 'sd1': 0.5}"
      ]
     },
     "execution_count": 6,
     "metadata": {},
     "output_type": "execute_result"
    }
   ],
   "source": [
    "gauss.params"
   ]
  },
  {
   "cell_type": "markdown",
   "metadata": {},
   "source": [
    "#### Adding bounds\n",
    "\n",
    "It may be a good idea to add bounds, especially to the error model. This will prevent the fitting algorithm from trying parameter values that are way out of wack and can help prevent over-fitting."
   ]
  },
  {
   "cell_type": "code",
   "execution_count": 7,
   "metadata": {
    "collapsed": false
   },
   "outputs": [],
   "source": [
    "gauss.paramBounds = {\"mean0\":(-2,2), \"sd0\":(0,5)} # note that you don't have to set all of them"
   ]
  },
  {
   "cell_type": "code",
   "execution_count": 8,
   "metadata": {
    "collapsed": false
   },
   "outputs": [
    {
     "data": {
      "text/plain": [
       "{'mean0': (-2, 2), 'mean1': (-inf, inf), 'sd0': (0, 5), 'sd1': (0.0, inf)}"
      ]
     },
     "execution_count": 8,
     "metadata": {},
     "output_type": "execute_result"
    }
   ],
   "source": [
    "gauss.paramBounds"
   ]
  },
  {
   "cell_type": "markdown",
   "metadata": {},
   "source": [
    "### Reading and writing parameter files\n",
    "\n",
    "Now that we have some starting parameter values, it's a good idea to write them to parameter files"
   ]
  },
  {
   "cell_type": "code",
   "execution_count": 9,
   "metadata": {
    "collapsed": false
   },
   "outputs": [],
   "source": [
    "plum.util.data.write_parameter_file(error_model=gauss, markov_model=ctmc, outfile=\"gaussian_test.param\")"
   ]
  },
  {
   "cell_type": "markdown",
   "metadata": {},
   "source": [
    "#### Param file format\n",
    "\n",
    "The parameter files are important. Each component -- the error model and the Markov model -- has a field defined by '#'. The name of the error model and Markov model classes are in the \"Name\" field and the parameter values and bounds are in the \"Params\" and \"Bounds\" fields, each of which is semi-colon delimited. Note that if you are using the default bounds, that line will be blank when you write it, as in the Markov model component below"
   ]
  },
  {
   "cell_type": "code",
   "execution_count": 10,
   "metadata": {
    "collapsed": false
   },
   "outputs": [
    {
     "name": "stdout",
     "output_type": "stream",
     "text": [
      "# Error Model\r\n",
      "Name: Gaussian\r\n",
      "Params: sd0=0.5;mean0=-0.5;mean1=0.5;sd1=0.5\r\n",
      "Bounds: mean0=(-2, 2);mean1=(-np.inf, np.inf);sd0=(0, 5);sd1=(0.0, np.inf)\r\n",
      "\r\n",
      "# Markov Model\r\n",
      "Name: TwoState\r\n",
      "Params: alpha=0.01;beta=0.1\r\n"
     ]
    }
   ],
   "source": [
    "!cat gaussian_test.param"
   ]
  },
  {
   "cell_type": "markdown",
   "metadata": {},
   "source": [
    "#### You can also read parameter files, like so"
   ]
  },
  {
   "cell_type": "code",
   "execution_count": 11,
   "metadata": {
    "collapsed": false
   },
   "outputs": [
    {
     "name": "stdout",
     "output_type": "stream",
     "text": [
      "Markov Model Parameters: {'mu': 0.11, 'alpha': 0.01, 'beta': 0.1, 'pi0': 0.9090909090909092, 'pi1': 0.09090909090909083}\n",
      "Error Model Parameters: {'mean0': -0.5, 'sd0': 0.5, 'mean1': 0.5, 'sd1': 0.5}\n",
      "Error Model Bounds: {'mean0': (-2, 2), 'mean1': (-inf, inf), 'sd0': (0, 5), 'sd1': (0.0, inf)}\n"
     ]
    }
   ],
   "source": [
    "em,mm = plum.util.data.get_models_from_file(\"gaussian_test.param\")\n",
    "\n",
    "print \"Markov Model Parameters: {}\".format(mm.params)\n",
    "print \"Error Model Parameters: {}\".format(em.params)\n",
    "print \"Error Model Bounds: {}\".format(em.paramBounds)"
   ]
  },
  {
   "cell_type": "markdown",
   "metadata": {},
   "source": [
    "## Simulating data\n",
    "\n",
    "Now we'll try simulating some data under our current model. To do so, we'll need a tree. I'll use the one from the paper"
   ]
  },
  {
   "cell_type": "code",
   "execution_count": 12,
   "metadata": {
    "collapsed": false
   },
   "outputs": [
    {
     "name": "stdout",
     "output_type": "stream",
     "text": [
      "                       /-------------------------------------------------------------------------------------------------------------------------------------------- Sc\n",
      "                       |                                                                                                                                               \n",
      "                       |                                                                                             /---------------------------------------------- Xl\n",
      "                       |                                                                     /-----------------------+                                                 \n",
      "                       |                                                                     |                       |                      /----------------------- Mm\n",
      "/----------------------+                                              /----------------------+                       \\----------------------+                          \n",
      "|                      |                                              |                      |                                              \\----------------------- Hs\n",
      "|                      |                                              |                      |                                                                         \n",
      "|                      |                      /-----------------------+                      \\---------------------------------------------------------------------- Sp\n",
      "|                      |                      |                       |                                                                                                \n",
      "+                      |                      |                       |                                                                     /----------------------- Dm\n",
      "|                      \\----------------------+                       \\---------------------------------------------------------------------+                          \n",
      "|                                             |                                                                                             \\----------------------- Ce\n",
      "|                                             |                                                                                                                        \n",
      "|                                             \\--------------------------------------------------------------------------------------------------------------------- Nv\n",
      "|                                                                                                                                                                      \n",
      "\\------------------------------------------------------------------------------------------------------------------------------------------------------------------- Dd\n",
      "                                                                                                                                                                       \n",
      "                                                                                                                                                                       \n"
     ]
    }
   ],
   "source": [
    "# note that we need to read in the internal node taxa\n",
    "tree = dendropy.Tree.get_from_path(\"../testdata/bikont_tree.nhx\",'newick',suppress_internal_node_taxa=False)\n",
    "print tree.as_ascii_plot()"
   ]
  },
  {
   "cell_type": "markdown",
   "metadata": {},
   "source": [
    "Now create a simulation class with the model we just read in to the variables ``em`` and ``mm``"
   ]
  },
  {
   "cell_type": "code",
   "execution_count": 13,
   "metadata": {
    "collapsed": false
   },
   "outputs": [],
   "source": [
    "## Note: TwoStateSim is currently the only class in plum.sim\n",
    "gaussian_sim = plum.sim.TwoStateSim(tree=tree, markov_model=mm, error_model=em, nchars=100)"
   ]
  },
  {
   "cell_type": "markdown",
   "metadata": {},
   "source": [
    "Run the simulation. You have to specify at least the node outfile which writes information about all the nodes. Optionally, you can specify a \"tips\" outfile, which has the same format as real data that you'll read in to fit the model."
   ]
  },
  {
   "cell_type": "code",
   "execution_count": 14,
   "metadata": {
    "collapsed": false
   },
   "outputs": [],
   "source": [
    "%%capture\n",
    "\n",
    "gaussian_sim(node_outfile=\"gaussian_sim_nodes.csv\",\n",
    "            tip_outfile=\"gaussian_sim_tips.csv\",\n",
    "            tip_data=True)"
   ]
  },
  {
   "cell_type": "markdown",
   "metadata": {},
   "source": [
    "Let's look at the data"
   ]
  },
  {
   "cell_type": "code",
   "execution_count": 15,
   "metadata": {
    "collapsed": true
   },
   "outputs": [],
   "source": [
    "sim_nodes = pd.read_csv(\"gaussian_sim_nodes.csv\")\n",
    "sim_tips = pd.read_csv(\"gaussian_sim_tips.csv\")"
   ]
  },
  {
   "cell_type": "code",
   "execution_count": 16,
   "metadata": {
    "collapsed": false
   },
   "outputs": [
    {
     "data": {
      "text/html": [
       "<div>\n",
       "<style scoped>\n",
       "    .dataframe tbody tr th:only-of-type {\n",
       "        vertical-align: middle;\n",
       "    }\n",
       "\n",
       "    .dataframe tbody tr th {\n",
       "        vertical-align: top;\n",
       "    }\n",
       "\n",
       "    .dataframe thead th {\n",
       "        text-align: right;\n",
       "    }\n",
       "</style>\n",
       "<table border=\"1\" class=\"dataframe\">\n",
       "  <thead>\n",
       "    <tr style=\"text-align: right;\">\n",
       "      <th></th>\n",
       "      <th>site</th>\n",
       "      <th>node</th>\n",
       "      <th>state</th>\n",
       "      <th>switch</th>\n",
       "      <th>data</th>\n",
       "    </tr>\n",
       "  </thead>\n",
       "  <tbody>\n",
       "    <tr>\n",
       "      <th>0</th>\n",
       "      <td>0</td>\n",
       "      <td>Sc</td>\n",
       "      <td>0</td>\n",
       "      <td>False</td>\n",
       "      <td>-0.845237</td>\n",
       "    </tr>\n",
       "    <tr>\n",
       "      <th>1</th>\n",
       "      <td>1</td>\n",
       "      <td>Sc</td>\n",
       "      <td>0</td>\n",
       "      <td>False</td>\n",
       "      <td>-0.788428</td>\n",
       "    </tr>\n",
       "    <tr>\n",
       "      <th>2</th>\n",
       "      <td>2</td>\n",
       "      <td>Sc</td>\n",
       "      <td>0</td>\n",
       "      <td>False</td>\n",
       "      <td>-0.290446</td>\n",
       "    </tr>\n",
       "    <tr>\n",
       "      <th>3</th>\n",
       "      <td>3</td>\n",
       "      <td>Sc</td>\n",
       "      <td>0</td>\n",
       "      <td>False</td>\n",
       "      <td>-0.203383</td>\n",
       "    </tr>\n",
       "    <tr>\n",
       "      <th>4</th>\n",
       "      <td>4</td>\n",
       "      <td>Sc</td>\n",
       "      <td>0</td>\n",
       "      <td>False</td>\n",
       "      <td>-0.462679</td>\n",
       "    </tr>\n",
       "  </tbody>\n",
       "</table>\n",
       "</div>"
      ],
      "text/plain": [
       "   site node  state switch      data\n",
       "0     0   Sc      0  False -0.845237\n",
       "1     1   Sc      0  False -0.788428\n",
       "2     2   Sc      0  False -0.290446\n",
       "3     3   Sc      0  False -0.203383\n",
       "4     4   Sc      0  False -0.462679"
      ]
     },
     "execution_count": 16,
     "metadata": {},
     "output_type": "execute_result"
    }
   ],
   "source": [
    "sim_nodes.head()"
   ]
  },
  {
   "cell_type": "markdown",
   "metadata": {},
   "source": [
    "#### Tips file\n",
    "\n",
    "When you create your own data files with real data, it should look like this, except the ``data`` column could be named anything and there can be multiple features. We'll look at an example below"
   ]
  },
  {
   "cell_type": "code",
   "execution_count": 17,
   "metadata": {
    "collapsed": false
   },
   "outputs": [
    {
     "data": {
      "text/html": [
       "<div>\n",
       "<style scoped>\n",
       "    .dataframe tbody tr th:only-of-type {\n",
       "        vertical-align: middle;\n",
       "    }\n",
       "\n",
       "    .dataframe tbody tr th {\n",
       "        vertical-align: top;\n",
       "    }\n",
       "\n",
       "    .dataframe thead th {\n",
       "        text-align: right;\n",
       "    }\n",
       "</style>\n",
       "<table border=\"1\" class=\"dataframe\">\n",
       "  <thead>\n",
       "    <tr style=\"text-align: right;\">\n",
       "      <th></th>\n",
       "      <th>ID1</th>\n",
       "      <th>ID2</th>\n",
       "      <th>species</th>\n",
       "      <th>data</th>\n",
       "      <th>state</th>\n",
       "    </tr>\n",
       "  </thead>\n",
       "  <tbody>\n",
       "    <tr>\n",
       "      <th>0</th>\n",
       "      <td>0</td>\n",
       "      <td>0</td>\n",
       "      <td>Sc</td>\n",
       "      <td>-0.845237</td>\n",
       "      <td>0</td>\n",
       "    </tr>\n",
       "    <tr>\n",
       "      <th>1</th>\n",
       "      <td>1</td>\n",
       "      <td>1</td>\n",
       "      <td>Sc</td>\n",
       "      <td>-0.788428</td>\n",
       "      <td>0</td>\n",
       "    </tr>\n",
       "    <tr>\n",
       "      <th>2</th>\n",
       "      <td>2</td>\n",
       "      <td>2</td>\n",
       "      <td>Sc</td>\n",
       "      <td>-0.290446</td>\n",
       "      <td>0</td>\n",
       "    </tr>\n",
       "    <tr>\n",
       "      <th>3</th>\n",
       "      <td>3</td>\n",
       "      <td>3</td>\n",
       "      <td>Sc</td>\n",
       "      <td>-0.203383</td>\n",
       "      <td>0</td>\n",
       "    </tr>\n",
       "    <tr>\n",
       "      <th>4</th>\n",
       "      <td>4</td>\n",
       "      <td>4</td>\n",
       "      <td>Sc</td>\n",
       "      <td>-0.462679</td>\n",
       "      <td>0</td>\n",
       "    </tr>\n",
       "  </tbody>\n",
       "</table>\n",
       "</div>"
      ],
      "text/plain": [
       "   ID1  ID2 species      data  state\n",
       "0    0    0      Sc -0.845237      0\n",
       "1    1    1      Sc -0.788428      0\n",
       "2    2    2      Sc -0.290446      0\n",
       "3    3    3      Sc -0.203383      0\n",
       "4    4    4      Sc -0.462679      0"
      ]
     },
     "execution_count": 17,
     "metadata": {},
     "output_type": "execute_result"
    }
   ],
   "source": [
    "sim_tips.head()"
   ]
  },
  {
   "cell_type": "markdown",
   "metadata": {},
   "source": [
    "Let us look at that which we have wrought. As expected, the mean of interactors is around 1, and non-interactors around -1, just we specified in the construction of the error model above. Also note that there are fewer interactors (state = 1) than non-interactors (state = 0). That's because we set ``alpha`` to be lower than ``beta`` above."
   ]
  },
  {
   "cell_type": "code",
   "execution_count": 18,
   "metadata": {
    "collapsed": false
   },
   "outputs": [
    {
     "data": {
      "image/png": "[encoded data removed]",
      "text/plain": [
       "<Figure size 600x400 with 1 Axes>"
      ]
     },
     "metadata": {},
     "output_type": "display_data"
    }
   ],
   "source": [
    "fig,ax = plt.subplots()\n",
    "\n",
    "pos = sim_tips[sim_tips.state == 1]\n",
    "neg = sim_tips[sim_tips.state == 0]\n",
    "\n",
    "_ = pos.data.hist(ax=ax,color='red',alpha=.5,label=\"Interacting\")\n",
    "_ = neg.data.hist(ax=ax,color='blue',alpha=.5,label=\"Non-Interacting\")\n",
    "_ = ax.legend()\n",
    "\n",
    "ax.grid(False)"
   ]
  },
  {
   "cell_type": "markdown",
   "metadata": {},
   "source": [
    "## Fitting a model\n",
    "\n",
    "First, we'll try fitting a model using likelihood using our simulated data"
   ]
  },
  {
   "cell_type": "code",
   "execution_count": 19,
   "metadata": {
    "collapsed": true
   },
   "outputs": [],
   "source": [
    "# Note that there are many other possible models for a single state. I haven't found very big performance differences.\n",
    "start_em = plum.models.ErrorModels.Gaussian()\n",
    "start_mm = plum.models.MarkovModels.TwoState()"
   ]
  },
  {
   "cell_type": "code",
   "execution_count": 20,
   "metadata": {
    "collapsed": false
   },
   "outputs": [
    {
     "name": "stdout",
     "output_type": "stream",
     "text": [
      "{'mean0': 0.0, 'sd0': 1.0, 'mean1': 0.0, 'sd1': 1.0}\n"
     ]
    }
   ],
   "source": [
    "print start_em.params"
   ]
  },
  {
   "cell_type": "code",
   "execution_count": 21,
   "metadata": {
    "collapsed": false
   },
   "outputs": [
    {
     "name": "stdout",
     "output_type": "stream",
     "text": [
      "{'mu': 2.0, 'alpha': 1.0, 'beta': 1.0, 'pi0': 0.5, 'pi1': 0.5}\n"
     ]
    }
   ],
   "source": [
    "print start_mm.params"
   ]
  },
  {
   "cell_type": "code",
   "execution_count": 22,
   "metadata": {
    "collapsed": false
   },
   "outputs": [
    {
     "name": "stdout",
     "output_type": "stream",
     "text": [
      "Parsing unsorted dataframe\n",
      "Finished loading data\n",
      "Initializing model\n",
      "Finished initializing model\n"
     ]
    }
   ],
   "source": [
    "like_model = plum.training.likelihood.simulated_annealing(error_model=start_em,\n",
    "                                                          markov_model=start_mm,\n",
    "                                                          tree=tree,data=sim_tips,\n",
    "                                                          start_temp=1.0,\n",
    "                                                          alpha=.5,\n",
    "                                                          temp_steps=10,\n",
    "                                                          mutation_sd=.3)"
   ]
  },
  {
   "cell_type": "code",
   "execution_count": 23,
   "metadata": {
    "collapsed": false
   },
   "outputs": [
    {
     "name": "stdout",
     "output_type": "stream",
     "text": [
      "Starting log likelihood: -1046.40806747\n"
     ]
    }
   ],
   "source": [
    "print \"Starting log likelihood: {}\".format(like_model.logL)"
   ]
  },
  {
   "cell_type": "code",
   "execution_count": 24,
   "metadata": {
    "collapsed": false
   },
   "outputs": [
    {
     "name": "stdout",
     "output_type": "stream",
     "text": [
      "Current temp: 0.5\tBest score: -883.198123842\tAccept rate at this T: 0.600000023842\n",
      "Current temp: 0.25\tBest score: -863.342613368\tAccept rate at this T: 0.40000000596\n",
      "Current temp: 0.125\tBest score: -807.400366416\tAccept rate at this T: 0.20000000298\n",
      "Current temp: 0.0625\tBest score: -782.690820143\tAccept rate at this T: 0.40000000596\n",
      "Current temp: 0.03125\tBest score: -782.690820143\tAccept rate at this T: 0.0\n",
      "Current temp: 0.015625\tBest score: -774.77916481\tAccept rate at this T: 0.300000011921\n",
      "Current temp: 0.0078125\tBest score: -774.735785906\tAccept rate at this T: 0.10000000149\n",
      "Current temp: 0.00390625\tBest score: -774.042438693\tAccept rate at this T: 0.20000000298\n",
      "Current temp: 0.001953125\tBest score: -774.042438693\tAccept rate at this T: 0.0\n",
      "Current temp: 0.0009765625\tBest score: -773.987365004\tAccept rate at this T: 0.10000000149\n",
      "Current temp: 0.00048828125\tBest score: -772.133159699\tAccept rate at this T: 0.10000000149\n",
      "Current temp: 0.000244140625\tBest score: -772.133159699\tAccept rate at this T: 0.0\n",
      "Current temp: 0.0001220703125\tBest score: -772.095114101\tAccept rate at this T: 0.10000000149\n",
      "Current temp: 6.103515625e-05\tBest score: -771.289230911\tAccept rate at this T: 0.20000000298\n",
      "Current temp: 3.0517578125e-05\tBest score: -768.247691798\tAccept rate at this T: 0.300000011921\n",
      "Current temp: 1.52587890625e-05\tBest score: -768.048539216\tAccept rate at this T: 0.10000000149\n",
      "Current temp: 7.62939453125e-06\tBest score: -768.048539216\tAccept rate at this T: 0.0\n",
      "Current temp: 3.81469726562e-06\tBest score: -766.987129006\tAccept rate at this T: 0.20000000298\n",
      "Current temp: 1.90734863281e-06\tBest score: -766.987129006\tAccept rate at this T: 0.0\n",
      "Current temp: 9.53674316406e-07\tBest score: -765.21178017\tAccept rate at this T: 0.10000000149\n"
     ]
    }
   ],
   "source": [
    "like_model.fit()"
   ]
  },
  {
   "cell_type": "code",
   "execution_count": 25,
   "metadata": {
    "collapsed": false
   },
   "outputs": [
    {
     "data": {
      "text/plain": [
       "{'alpha': 0.666239395829176,\n",
       " 'beta': 0.6056416154874873,\n",
       " 'mean0': -0.1514964889597626,\n",
       " 'mean1': -0.6078308418059257,\n",
       " 'mu': 1.2718810113166632,\n",
       " 'pi0': 0.4761778893613023,\n",
       " 'pi1': 0.5238221106386978,\n",
       " 'sd0': 0.6286254663419026,\n",
       " 'sd1': 0.38530700804616136}"
      ]
     },
     "execution_count": 25,
     "metadata": {},
     "output_type": "execute_result"
    }
   ],
   "source": [
    "like_model.params"
   ]
  },
  {
   "cell_type": "markdown",
   "metadata": {},
   "source": [
    "#### Fitting with recall-precision"
   ]
  },
  {
   "cell_type": "code",
   "execution_count": 26,
   "metadata": {
    "collapsed": false
   },
   "outputs": [
    {
     "name": "stdout",
     "output_type": "stream",
     "text": [
      "Loading dataframe\n",
      "Parsing unsorted dataframe\n",
      "Finished loading data\n",
      "Initializing model\n",
      "Finished initializing model\n"
     ]
    }
   ],
   "source": [
    "## Above, we called simulated_annealing using our tree and sim_tips objects, but we can also load from a file, as here\n",
    "rp_model = plum.training.recall_precision.simulated_annealing(error_model=start_em,\n",
    "                                                          markov_model=start_mm,\n",
    "                                                          tree='../testdata/bikont_tree.nhx',\n",
    "                                                          data=\"gaussian_sim_tips.csv\",\n",
    "                                                          start_temp=1.0,\n",
    "                                                          alpha=.5,\n",
    "                                                          temp_steps=10,\n",
    "                                                          mutation_sd=.3)"
   ]
  },
  {
   "cell_type": "code",
   "execution_count": 27,
   "metadata": {
    "collapsed": false
   },
   "outputs": [
    {
     "name": "stdout",
     "output_type": "stream",
     "text": [
      "Starting Average Precision Score (APS): 0.09\n"
     ]
    }
   ],
   "source": [
    "print \"Starting Average Precision Score (APS): {}\".format(rp_model.aps)"
   ]
  },
  {
   "cell_type": "code",
   "execution_count": 28,
   "metadata": {
    "collapsed": false
   },
   "outputs": [
    {
     "name": "stdout",
     "output_type": "stream",
     "text": [
      "Current temp: 0.5\tBest score: 0.710016092758\tAccept rate at this T: 0.899999976158\n",
      "Current temp: 0.25\tBest score: 0.903727464479\tAccept rate at this T: 0.699999988079\n",
      "Current temp: 0.125\tBest score: 0.903727464479\tAccept rate at this T: 0.699999988079\n",
      "Current temp: 0.0625\tBest score: 0.903727464479\tAccept rate at this T: 0.699999988079\n",
      "Current temp: 0.03125\tBest score: 0.903727464479\tAccept rate at this T: 0.899999976158\n",
      "Current temp: 0.015625\tBest score: 0.903727464479\tAccept rate at this T: 0.699999988079\n",
      "Current temp: 0.0078125\tBest score: 0.933436825274\tAccept rate at this T: 0.699999988079\n",
      "Current temp: 0.00390625\tBest score: 0.952186784783\tAccept rate at this T: 0.699999988079\n",
      "Current temp: 0.001953125\tBest score: 0.952186784783\tAccept rate at this T: 0.300000011921\n",
      "Current temp: 0.0009765625\tBest score: 0.952186784783\tAccept rate at this T: 0.5\n",
      "Current temp: 0.00048828125\tBest score: 0.952186784783\tAccept rate at this T: 0.5\n",
      "Current temp: 0.000244140625\tBest score: 0.952186784783\tAccept rate at this T: 0.10000000149\n",
      "Current temp: 0.0001220703125\tBest score: 0.952186784783\tAccept rate at this T: 0.20000000298\n",
      "Current temp: 6.103515625e-05\tBest score: 0.952186784783\tAccept rate at this T: 0.300000011921\n",
      "Current temp: 3.0517578125e-05\tBest score: 0.952186784783\tAccept rate at this T: 0.10000000149\n",
      "Current temp: 1.52587890625e-05\tBest score: 0.952186784783\tAccept rate at this T: 0.300000011921\n",
      "Current temp: 7.62939453125e-06\tBest score: 0.954950805615\tAccept rate at this T: 0.300000011921\n",
      "Current temp: 3.81469726562e-06\tBest score: 0.954950805615\tAccept rate at this T: 0.0\n",
      "Current temp: 1.90734863281e-06\tBest score: 0.954950805615\tAccept rate at this T: 0.0\n",
      "Current temp: 9.53674316406e-07\tBest score: 0.954950805615\tAccept rate at this T: 0.0\n"
     ]
    }
   ],
   "source": [
    "rp_model.fit()"
   ]
  },
  {
   "cell_type": "code",
   "execution_count": 29,
   "metadata": {
    "collapsed": false
   },
   "outputs": [
    {
     "data": {
      "text/plain": [
       "{'alpha': 0.06139583330455703,\n",
       " 'beta': 0.37138088740980874,\n",
       " 'mean0': -0.8558117115254644,\n",
       " 'mean1': 1.2869676584665752,\n",
       " 'mu': 0.4327767207143658,\n",
       " 'pi0': 0.8581350835987351,\n",
       " 'pi1': 0.14186491640126486,\n",
       " 'sd0': 0.7341371346848083,\n",
       " 'sd1': 2.2171994790851604}"
      ]
     },
     "execution_count": 29,
     "metadata": {},
     "output_type": "execute_result"
    }
   ],
   "source": [
    "rp_model.params"
   ]
  },
  {
   "cell_type": "markdown",
   "metadata": {},
   "source": [
    "#### Looking at the results\n",
    "\n",
    "After fitting, the recall_precision module has some nice data structures we can populate to look at the results. One holds the precision-recall curve, and the other holds the predicted scores on the training data with false discovery rate thresholds. Both are pandas dataframes"
   ]
  },
  {
   "cell_type": "code",
   "execution_count": 30,
   "metadata": {
    "collapsed": true
   },
   "outputs": [],
   "source": [
    "rp_model_prc_df = rp_model.precision_recall_DF\n",
    "rp_model_results_df = rp_model.results_DF"
   ]
  },
  {
   "cell_type": "code",
   "execution_count": 32,
   "metadata": {
    "collapsed": false
   },
   "outputs": [
    {
     "data": {
      "text/html": [
       "<div>\n",
       "<style scoped>\n",
       "    .dataframe tbody tr th:only-of-type {\n",
       "        vertical-align: middle;\n",
       "    }\n",
       "\n",
       "    .dataframe tbody tr th {\n",
       "        vertical-align: top;\n",
       "    }\n",
       "\n",
       "    .dataframe thead th {\n",
       "        text-align: right;\n",
       "    }\n",
       "</style>\n",
       "<table border=\"1\" class=\"dataframe\">\n",
       "  <thead>\n",
       "    <tr style=\"text-align: right;\">\n",
       "      <th></th>\n",
       "      <th>precision</th>\n",
       "      <th>recall</th>\n",
       "    </tr>\n",
       "  </thead>\n",
       "  <tbody>\n",
       "    <tr>\n",
       "      <th>493</th>\n",
       "      <td>1.0</td>\n",
       "      <td>0.000000</td>\n",
       "    </tr>\n",
       "    <tr>\n",
       "      <th>492</th>\n",
       "      <td>1.0</td>\n",
       "      <td>0.012346</td>\n",
       "    </tr>\n",
       "    <tr>\n",
       "      <th>491</th>\n",
       "      <td>1.0</td>\n",
       "      <td>0.024691</td>\n",
       "    </tr>\n",
       "    <tr>\n",
       "      <th>490</th>\n",
       "      <td>1.0</td>\n",
       "      <td>0.037037</td>\n",
       "    </tr>\n",
       "    <tr>\n",
       "      <th>489</th>\n",
       "      <td>1.0</td>\n",
       "      <td>0.049383</td>\n",
       "    </tr>\n",
       "  </tbody>\n",
       "</table>\n",
       "</div>"
      ],
      "text/plain": [
       "     precision    recall\n",
       "493        1.0  0.000000\n",
       "492        1.0  0.012346\n",
       "491        1.0  0.024691\n",
       "490        1.0  0.037037\n",
       "489        1.0  0.049383"
      ]
     },
     "execution_count": 32,
     "metadata": {},
     "output_type": "execute_result"
    }
   ],
   "source": [
    "rp_model_prc_df.head()"
   ]
  },
  {
   "cell_type": "code",
   "execution_count": 33,
   "metadata": {
    "collapsed": false
   },
   "outputs": [
    {
     "data": {
      "text/html": [
       "<div>\n",
       "<style scoped>\n",
       "    .dataframe tbody tr th:only-of-type {\n",
       "        vertical-align: middle;\n",
       "    }\n",
       "\n",
       "    .dataframe tbody tr th {\n",
       "        vertical-align: top;\n",
       "    }\n",
       "\n",
       "    .dataframe thead th {\n",
       "        text-align: right;\n",
       "    }\n",
       "</style>\n",
       "<table border=\"1\" class=\"dataframe\">\n",
       "  <thead>\n",
       "    <tr style=\"text-align: right;\">\n",
       "      <th></th>\n",
       "      <th>ID1</th>\n",
       "      <th>ID2</th>\n",
       "      <th>species</th>\n",
       "      <th>state</th>\n",
       "      <th>P_1</th>\n",
       "      <th>FDR</th>\n",
       "    </tr>\n",
       "  </thead>\n",
       "  <tbody>\n",
       "    <tr>\n",
       "      <th>0</th>\n",
       "      <td>75</td>\n",
       "      <td>75</td>\n",
       "      <td>Hs</td>\n",
       "      <td>1</td>\n",
       "      <td>0.999541</td>\n",
       "      <td>0.0</td>\n",
       "    </tr>\n",
       "    <tr>\n",
       "      <th>1</th>\n",
       "      <td>47</td>\n",
       "      <td>47</td>\n",
       "      <td>Mm</td>\n",
       "      <td>1</td>\n",
       "      <td>0.998944</td>\n",
       "      <td>0.0</td>\n",
       "    </tr>\n",
       "    <tr>\n",
       "      <th>2</th>\n",
       "      <td>75</td>\n",
       "      <td>75</td>\n",
       "      <td>Dm</td>\n",
       "      <td>1</td>\n",
       "      <td>0.994446</td>\n",
       "      <td>0.0</td>\n",
       "    </tr>\n",
       "    <tr>\n",
       "      <th>3</th>\n",
       "      <td>75</td>\n",
       "      <td>75</td>\n",
       "      <td>Xl</td>\n",
       "      <td>1</td>\n",
       "      <td>0.988012</td>\n",
       "      <td>0.0</td>\n",
       "    </tr>\n",
       "    <tr>\n",
       "      <th>4</th>\n",
       "      <td>75</td>\n",
       "      <td>75</td>\n",
       "      <td>Ce</td>\n",
       "      <td>1</td>\n",
       "      <td>0.986971</td>\n",
       "      <td>0.0</td>\n",
       "    </tr>\n",
       "  </tbody>\n",
       "</table>\n",
       "</div>"
      ],
      "text/plain": [
       "   ID1  ID2 species  state       P_1  FDR\n",
       "0   75   75      Hs      1  0.999541  0.0\n",
       "1   47   47      Mm      1  0.998944  0.0\n",
       "2   75   75      Dm      1  0.994446  0.0\n",
       "3   75   75      Xl      1  0.988012  0.0\n",
       "4   75   75      Ce      1  0.986971  0.0"
      ]
     },
     "execution_count": 33,
     "metadata": {},
     "output_type": "execute_result"
    }
   ],
   "source": [
    "rp_model_results_df.head()"
   ]
  },
  {
   "cell_type": "markdown",
   "metadata": {},
   "source": [
    "#### Compare likelihood and recall_precision fitting"
   ]
  },
  {
   "cell_type": "code",
   "execution_count": 34,
   "metadata": {
    "collapsed": false
   },
   "outputs": [
    {
     "data": {
      "text/plain": [
       "{'mean0': -0.1514964889597626,\n",
       " 'mean1': -0.6078308418059257,\n",
       " 'sd0': 0.6286254663419026,\n",
       " 'sd1': 0.38530700804616136}"
      ]
     },
     "execution_count": 34,
     "metadata": {},
     "output_type": "execute_result"
    }
   ],
   "source": [
    "like_model.errorModelParams"
   ]
  },
  {
   "cell_type": "code",
   "execution_count": 35,
   "metadata": {
    "collapsed": true
   },
   "outputs": [],
   "source": [
    "like_em = plum.models.ErrorModels.Gaussian(**like_model.errorModelParams)\n",
    "like_mm = plum.models.MarkovModels.TwoState(**like_model.markovModelParams)"
   ]
  },
  {
   "cell_type": "code",
   "execution_count": 36,
   "metadata": {
    "collapsed": false
   },
   "outputs": [
    {
     "name": "stdout",
     "output_type": "stream",
     "text": [
      "Parsing unsorted dataframe\n",
      "Finished loading data\n",
      "Initializing model\n",
      "Finished initializing model\n"
     ]
    }
   ],
   "source": [
    "like_rp = plum.training.recall_precision.plumRecallPrecision(error_model=like_em,\n",
    "                                                             markov_model=like_mm,\n",
    "                                                             tree=tree,\n",
    "                                                             data=sim_tips)"
   ]
  },
  {
   "cell_type": "code",
   "execution_count": 37,
   "metadata": {
    "collapsed": true
   },
   "outputs": [],
   "source": [
    "like_model_prc_df = like_rp.precision_recall_DF\n",
    "like_model_results_df = like_rp.results_DF"
   ]
  },
  {
   "cell_type": "code",
   "execution_count": 38,
   "metadata": {
    "collapsed": false
   },
   "outputs": [
    {
     "data": {
      "text/plain": [
       "<matplotlib.legend.Legend at 0x7f4ebdfd8050>"
      ]
     },
     "execution_count": 38,
     "metadata": {},
     "output_type": "execute_result"
    },
    {
     "data": {
      "image/png": "[encoded data removed]",
      "text/plain": [
       "<Figure size 600x400 with 1 Axes>"
      ]
     },
     "metadata": {},
     "output_type": "display_data"
    }
   ],
   "source": [
    "fig,ax = plt.subplots()\n",
    "\n",
    "like_model_prc_df.plot(ax=ax,x=\"recall\",y=\"precision\",color=\"red\",label=\"likelihood\")\n",
    "rp_model_prc_df.plot(ax=ax,x=\"recall\",y=\"precision\",color=\"blue\",label=\"recall-precision\")\n",
    "\n",
    "ax.legend()"
   ]
  },
  {
   "cell_type": "markdown",
   "metadata": {
    "collapsed": true
   },
   "source": [
    "In this case, fitting by recall-precision (APS) was much better, but you can play around with the simulated data and you'll find that, as you increase the difference between mean0 and mean1, decrease the standard deviations, and decrease the class imbalance (by making alpha and beta more similar), likelihood will do better and better, sometimes outperforming APS fitting"
   ]
  },
  {
   "cell_type": "code",
   "execution_count": null,
   "metadata": {
    "collapsed": true
   },
   "outputs": [],
   "source": []
  }
 ],
 "metadata": {
  "kernelspec": {
   "display_name": "Python 2",
   "language": "python",
   "name": "python2"
  },
  "language_info": {
   "codemirror_mode": {
    "name": "ipython",
    "version": 2
   },
   "file_extension": ".py",
   "mimetype": "text/x-python",
   "name": "python",
   "nbconvert_exporter": "python",
   "pygments_lexer": "ipython2",
   "version": "2.7.6"
  }
 },
 "nbformat": 4,
 "nbformat_minor": 0
}
